{
 "cells": [
  {
   "attachments": {},
   "cell_type": "markdown",
   "metadata": {},
   "source": [
    "<h2 style=\"text-align: center; font-weight: bold\">Basic EDA</h2>"
   ]
  },
  {
   "cell_type": "code",
   "execution_count": 1,
   "metadata": {},
   "outputs": [],
   "source": [
    "import pandas as pd\n",
    "import numpy as np\n",
    "import re"
   ]
  },
  {
   "attachments": {},
   "cell_type": "markdown",
   "metadata": {},
   "source": [
    "#### Original Dataset"
   ]
  },
  {
   "cell_type": "code",
   "execution_count": 2,
   "metadata": {},
   "outputs": [
    {
     "data": {
      "text/html": [
       "<div>\n",
       "<style scoped>\n",
       "    .dataframe tbody tr th:only-of-type {\n",
       "        vertical-align: middle;\n",
       "    }\n",
       "\n",
       "    .dataframe tbody tr th {\n",
       "        vertical-align: top;\n",
       "    }\n",
       "\n",
       "    .dataframe thead th {\n",
       "        text-align: right;\n",
       "    }\n",
       "</style>\n",
       "<table border=\"1\" class=\"dataframe\">\n",
       "  <thead>\n",
       "    <tr style=\"text-align: right;\">\n",
       "      <th></th>\n",
       "      <th>client_id</th>\n",
       "      <th>order_id</th>\n",
       "      <th>item_name</th>\n",
       "      <th>quantity</th>\n",
       "      <th>price</th>\n",
       "      <th>date</th>\n",
       "    </tr>\n",
       "  </thead>\n",
       "  <tbody>\n",
       "    <tr>\n",
       "      <th>0</th>\n",
       "      <td>ahNzfnNldmVucm9vbXMtc2VjdXJlcicLEhpuaWdodGxvb3...</td>\n",
       "      <td>ahNzfnNldmVucm9vbXMtc2VjdXJlciULEhtuaWdodGxvb3...</td>\n",
       "      <td>Cosmonaut</td>\n",
       "      <td>1</td>\n",
       "      <td>16.0</td>\n",
       "      <td>2022-01-24</td>\n",
       "    </tr>\n",
       "    <tr>\n",
       "      <th>1</th>\n",
       "      <td>ahNzfnNldmVucm9vbXMtc2VjdXJlcicLEhpuaWdodGxvb3...</td>\n",
       "      <td>ahNzfnNldmVucm9vbXMtc2VjdXJlciULEhtuaWdodGxvb3...</td>\n",
       "      <td>Krombacher</td>\n",
       "      <td>1</td>\n",
       "      <td>8.0</td>\n",
       "      <td>2022-01-24</td>\n",
       "    </tr>\n",
       "    <tr>\n",
       "      <th>2</th>\n",
       "      <td>ahNzfnNldmVucm9vbXMtc2VjdXJlcicLEhpuaWdodGxvb3...</td>\n",
       "      <td>ahNzfnNldmVucm9vbXMtc2VjdXJlciULEhtuaWdodGxvb3...</td>\n",
       "      <td>Ahi Tuna</td>\n",
       "      <td>1</td>\n",
       "      <td>23.0</td>\n",
       "      <td>2022-01-24</td>\n",
       "    </tr>\n",
       "    <tr>\n",
       "      <th>3</th>\n",
       "      <td>ahNzfnNldmVucm9vbXMtc2VjdXJlcicLEhpuaWdodGxvb3...</td>\n",
       "      <td>ahNzfnNldmVucm9vbXMtc2VjdXJlciULEhtuaWdodGxvb3...</td>\n",
       "      <td>Little Gem Salad</td>\n",
       "      <td>1</td>\n",
       "      <td>14.0</td>\n",
       "      <td>2022-01-24</td>\n",
       "    </tr>\n",
       "    <tr>\n",
       "      <th>4</th>\n",
       "      <td>ahNzfnNldmVucm9vbXMtc2VjdXJlcicLEhpuaWdodGxvb3...</td>\n",
       "      <td>ahNzfnNldmVucm9vbXMtc2VjdXJlciULEhtuaWdodGxvb3...</td>\n",
       "      <td>Fire Pie</td>\n",
       "      <td>1</td>\n",
       "      <td>20.0</td>\n",
       "      <td>2022-01-24</td>\n",
       "    </tr>\n",
       "  </tbody>\n",
       "</table>\n",
       "</div>"
      ],
      "text/plain": [
       "                                           client_id  \\\n",
       "0  ahNzfnNldmVucm9vbXMtc2VjdXJlcicLEhpuaWdodGxvb3...   \n",
       "1  ahNzfnNldmVucm9vbXMtc2VjdXJlcicLEhpuaWdodGxvb3...   \n",
       "2  ahNzfnNldmVucm9vbXMtc2VjdXJlcicLEhpuaWdodGxvb3...   \n",
       "3  ahNzfnNldmVucm9vbXMtc2VjdXJlcicLEhpuaWdodGxvb3...   \n",
       "4  ahNzfnNldmVucm9vbXMtc2VjdXJlcicLEhpuaWdodGxvb3...   \n",
       "\n",
       "                                            order_id         item_name  \\\n",
       "0  ahNzfnNldmVucm9vbXMtc2VjdXJlciULEhtuaWdodGxvb3...         Cosmonaut   \n",
       "1  ahNzfnNldmVucm9vbXMtc2VjdXJlciULEhtuaWdodGxvb3...        Krombacher   \n",
       "2  ahNzfnNldmVucm9vbXMtc2VjdXJlciULEhtuaWdodGxvb3...          Ahi Tuna   \n",
       "3  ahNzfnNldmVucm9vbXMtc2VjdXJlciULEhtuaWdodGxvb3...  Little Gem Salad   \n",
       "4  ahNzfnNldmVucm9vbXMtc2VjdXJlciULEhtuaWdodGxvb3...          Fire Pie   \n",
       "\n",
       "   quantity  price        date  \n",
       "0         1   16.0  2022-01-24  \n",
       "1         1    8.0  2022-01-24  \n",
       "2         1   23.0  2022-01-24  \n",
       "3         1   14.0  2022-01-24  \n",
       "4         1   20.0  2022-01-24  "
      ]
     },
     "execution_count": 2,
     "metadata": {},
     "output_type": "execute_result"
    }
   ],
   "source": [
    "df = pd.read_csv(\"./jetson-sample-data.csv\")\n",
    "df.head()"
   ]
  },
  {
   "attachments": {},
   "cell_type": "markdown",
   "metadata": {},
   "source": [
    "#### Removing < 0 price"
   ]
  },
  {
   "cell_type": "code",
   "execution_count": 3,
   "metadata": {},
   "outputs": [
    {
     "name": "stdout",
     "output_type": "stream",
     "text": [
      "(665847, 6)\n"
     ]
    },
    {
     "data": {
      "text/html": [
       "<div>\n",
       "<style scoped>\n",
       "    .dataframe tbody tr th:only-of-type {\n",
       "        vertical-align: middle;\n",
       "    }\n",
       "\n",
       "    .dataframe tbody tr th {\n",
       "        vertical-align: top;\n",
       "    }\n",
       "\n",
       "    .dataframe thead th {\n",
       "        text-align: right;\n",
       "    }\n",
       "</style>\n",
       "<table border=\"1\" class=\"dataframe\">\n",
       "  <thead>\n",
       "    <tr style=\"text-align: right;\">\n",
       "      <th></th>\n",
       "      <th>client_id</th>\n",
       "      <th>order_id</th>\n",
       "      <th>item_name</th>\n",
       "      <th>quantity</th>\n",
       "      <th>price</th>\n",
       "      <th>date</th>\n",
       "    </tr>\n",
       "  </thead>\n",
       "  <tbody>\n",
       "    <tr>\n",
       "      <th>0</th>\n",
       "      <td>ahNzfnNldmVucm9vbXMtc2VjdXJlcicLEhpuaWdodGxvb3...</td>\n",
       "      <td>ahNzfnNldmVucm9vbXMtc2VjdXJlciULEhtuaWdodGxvb3...</td>\n",
       "      <td>Cosmonaut</td>\n",
       "      <td>1</td>\n",
       "      <td>16.0</td>\n",
       "      <td>2022-01-24</td>\n",
       "    </tr>\n",
       "    <tr>\n",
       "      <th>1</th>\n",
       "      <td>ahNzfnNldmVucm9vbXMtc2VjdXJlcicLEhpuaWdodGxvb3...</td>\n",
       "      <td>ahNzfnNldmVucm9vbXMtc2VjdXJlciULEhtuaWdodGxvb3...</td>\n",
       "      <td>Krombacher</td>\n",
       "      <td>1</td>\n",
       "      <td>8.0</td>\n",
       "      <td>2022-01-24</td>\n",
       "    </tr>\n",
       "    <tr>\n",
       "      <th>2</th>\n",
       "      <td>ahNzfnNldmVucm9vbXMtc2VjdXJlcicLEhpuaWdodGxvb3...</td>\n",
       "      <td>ahNzfnNldmVucm9vbXMtc2VjdXJlciULEhtuaWdodGxvb3...</td>\n",
       "      <td>Ahi Tuna</td>\n",
       "      <td>1</td>\n",
       "      <td>23.0</td>\n",
       "      <td>2022-01-24</td>\n",
       "    </tr>\n",
       "    <tr>\n",
       "      <th>3</th>\n",
       "      <td>ahNzfnNldmVucm9vbXMtc2VjdXJlcicLEhpuaWdodGxvb3...</td>\n",
       "      <td>ahNzfnNldmVucm9vbXMtc2VjdXJlciULEhtuaWdodGxvb3...</td>\n",
       "      <td>Little Gem Salad</td>\n",
       "      <td>1</td>\n",
       "      <td>14.0</td>\n",
       "      <td>2022-01-24</td>\n",
       "    </tr>\n",
       "    <tr>\n",
       "      <th>4</th>\n",
       "      <td>ahNzfnNldmVucm9vbXMtc2VjdXJlcicLEhpuaWdodGxvb3...</td>\n",
       "      <td>ahNzfnNldmVucm9vbXMtc2VjdXJlciULEhtuaWdodGxvb3...</td>\n",
       "      <td>Fire Pie</td>\n",
       "      <td>1</td>\n",
       "      <td>20.0</td>\n",
       "      <td>2022-01-24</td>\n",
       "    </tr>\n",
       "  </tbody>\n",
       "</table>\n",
       "</div>"
      ],
      "text/plain": [
       "                                           client_id  \\\n",
       "0  ahNzfnNldmVucm9vbXMtc2VjdXJlcicLEhpuaWdodGxvb3...   \n",
       "1  ahNzfnNldmVucm9vbXMtc2VjdXJlcicLEhpuaWdodGxvb3...   \n",
       "2  ahNzfnNldmVucm9vbXMtc2VjdXJlcicLEhpuaWdodGxvb3...   \n",
       "3  ahNzfnNldmVucm9vbXMtc2VjdXJlcicLEhpuaWdodGxvb3...   \n",
       "4  ahNzfnNldmVucm9vbXMtc2VjdXJlcicLEhpuaWdodGxvb3...   \n",
       "\n",
       "                                            order_id         item_name  \\\n",
       "0  ahNzfnNldmVucm9vbXMtc2VjdXJlciULEhtuaWdodGxvb3...         Cosmonaut   \n",
       "1  ahNzfnNldmVucm9vbXMtc2VjdXJlciULEhtuaWdodGxvb3...        Krombacher   \n",
       "2  ahNzfnNldmVucm9vbXMtc2VjdXJlciULEhtuaWdodGxvb3...          Ahi Tuna   \n",
       "3  ahNzfnNldmVucm9vbXMtc2VjdXJlciULEhtuaWdodGxvb3...  Little Gem Salad   \n",
       "4  ahNzfnNldmVucm9vbXMtc2VjdXJlciULEhtuaWdodGxvb3...          Fire Pie   \n",
       "\n",
       "   quantity  price        date  \n",
       "0         1   16.0  2022-01-24  \n",
       "1         1    8.0  2022-01-24  \n",
       "2         1   23.0  2022-01-24  \n",
       "3         1   14.0  2022-01-24  \n",
       "4         1   20.0  2022-01-24  "
      ]
     },
     "execution_count": 3,
     "metadata": {},
     "output_type": "execute_result"
    }
   ],
   "source": [
    "new_df = df[df[\"price\"] >= 0]\n",
    "print(new_df.shape)\n",
    "new_df.head()"
   ]
  },
  {
   "attachments": {},
   "cell_type": "markdown",
   "metadata": {},
   "source": [
    "#### Unique IDs"
   ]
  },
  {
   "cell_type": "code",
   "execution_count": 4,
   "metadata": {},
   "outputs": [
    {
     "name": "stdout",
     "output_type": "stream",
     "text": [
      "ahNzfnNldmVucm9vbXMtc2VjdXJlciQLEhpuaWdodGxvb3BfVmVudWVHcm91cENsaWVudBjok_6aFww        803\n",
      "ahNzfnNldmVucm9vbXMtc2VjdXJlcicLEhpuaWdodGxvb3BfVmVudWVHcm91cENsaWVudBiAgLjLkIGdCAw    651\n",
      "ahNzfnNldmVucm9vbXMtc2VjdXJlciQLEhpuaWdodGxvb3BfVmVudWVHcm91cENsaWVudBj-mcSfCQw        457\n",
      "ahNzfnNldmVucm9vbXMtc2VjdXJlcicLEhpuaWdodGxvb3BfVmVudWVHcm91cENsaWVudBiAgPCp7Zz3Cww    342\n",
      "ahNzfnNldmVucm9vbXMtc2VjdXJlcicLEhpuaWdodGxvb3BfVmVudWVHcm91cENsaWVudBiAgPCPxsypCgw    315\n",
      "                                                                                      ... \n",
      "ahNzfnNldmVucm9vbXMtc2VjdXJlcicLEhpuaWdodGxvb3BfVmVudWVHcm91cENsaWVudBiAgOzX6fvzCAw      1\n",
      "ahNzfnNldmVucm9vbXMtc2VjdXJlcicLEhpuaWdodGxvb3BfVmVudWVHcm91cENsaWVudBiAgKSxr5zyCww      1\n",
      "ahNzfnNldmVucm9vbXMtc2VjdXJlcicLEhpuaWdodGxvb3BfVmVudWVHcm91cENsaWVudBiAgKTAlNnrCww      1\n",
      "ahNzfnNldmVucm9vbXMtc2VjdXJlcicLEhpuaWdodGxvb3BfVmVudWVHcm91cENsaWVudBiAgPThj5SBCww      1\n",
      "ahNzfnNldmVucm9vbXMtc2VjdXJlcicLEhpuaWdodGxvb3BfVmVudWVHcm91cENsaWVudBiAgMLFiY3SCgw      1\n",
      "Name: client_id, Length: 66493, dtype: int64\n"
     ]
    }
   ],
   "source": [
    "print(new_df[\"client_id\"].value_counts())"
   ]
  },
  {
   "attachments": {},
   "cell_type": "markdown",
   "metadata": {},
   "source": [
    "#### Unique Order IDs"
   ]
  },
  {
   "cell_type": "code",
   "execution_count": 5,
   "metadata": {},
   "outputs": [
    {
     "name": "stdout",
     "output_type": "stream",
     "text": [
      "80517\n"
     ]
    }
   ],
   "source": [
    "print(len(new_df[\"order_id\"].unique()))"
   ]
  },
  {
   "attachments": {},
   "cell_type": "markdown",
   "metadata": {},
   "source": [
    "#### Extrapolation"
   ]
  },
  {
   "cell_type": "code",
   "execution_count": 6,
   "metadata": {},
   "outputs": [
    {
     "data": {
      "text/html": [
       "<div>\n",
       "<style scoped>\n",
       "    .dataframe tbody tr th:only-of-type {\n",
       "        vertical-align: middle;\n",
       "    }\n",
       "\n",
       "    .dataframe tbody tr th {\n",
       "        vertical-align: top;\n",
       "    }\n",
       "\n",
       "    .dataframe thead th {\n",
       "        text-align: right;\n",
       "    }\n",
       "</style>\n",
       "<table border=\"1\" class=\"dataframe\">\n",
       "  <thead>\n",
       "    <tr style=\"text-align: right;\">\n",
       "      <th></th>\n",
       "      <th>item_name</th>\n",
       "      <th>type</th>\n",
       "      <th>type2</th>\n",
       "    </tr>\n",
       "  </thead>\n",
       "  <tbody>\n",
       "    <tr>\n",
       "      <th>0</th>\n",
       "      <td>Coffeee Cake</td>\n",
       "      <td>dessert</td>\n",
       "      <td>v</td>\n",
       "    </tr>\n",
       "    <tr>\n",
       "      <th>1</th>\n",
       "      <td>(Well Cognac) Pierre Ferrand 1840</td>\n",
       "      <td>beverage</td>\n",
       "      <td>a</td>\n",
       "    </tr>\n",
       "    <tr>\n",
       "      <th>2</th>\n",
       "      <td>(Well Rum) Plantation 3 Star</td>\n",
       "      <td>beverage</td>\n",
       "      <td>a</td>\n",
       "    </tr>\n",
       "    <tr>\n",
       "      <th>3</th>\n",
       "      <td>400 Conejos</td>\n",
       "      <td>beverage</td>\n",
       "      <td>a</td>\n",
       "    </tr>\n",
       "    <tr>\n",
       "      <th>4</th>\n",
       "      <td>Askur</td>\n",
       "      <td>beverage</td>\n",
       "      <td>a</td>\n",
       "    </tr>\n",
       "  </tbody>\n",
       "</table>\n",
       "</div>"
      ],
      "text/plain": [
       "                           item_name      type type2\n",
       "0                       Coffeee Cake   dessert     v\n",
       "1  (Well Cognac) Pierre Ferrand 1840  beverage     a\n",
       "2       (Well Rum) Plantation 3 Star  beverage     a\n",
       "3                        400 Conejos  beverage     a\n",
       "4                              Askur  beverage     a"
      ]
     },
     "execution_count": 6,
     "metadata": {},
     "output_type": "execute_result"
    }
   ],
   "source": [
    "labelled_mini = pd.read_csv(\"./labelled_data.csv\", encoding=\"ISO-8859-1\")\n",
    "labelled_mini.head()"
   ]
  },
  {
   "cell_type": "code",
   "execution_count": 7,
   "metadata": {},
   "outputs": [
    {
     "data": {
      "text/plain": [
       "(2061, 3)"
      ]
     },
     "execution_count": 7,
     "metadata": {},
     "output_type": "execute_result"
    }
   ],
   "source": [
    "labelled_mini.shape"
   ]
  },
  {
   "cell_type": "code",
   "execution_count": 8,
   "metadata": {},
   "outputs": [
    {
     "data": {
      "text/html": [
       "<div>\n",
       "<style scoped>\n",
       "    .dataframe tbody tr th:only-of-type {\n",
       "        vertical-align: middle;\n",
       "    }\n",
       "\n",
       "    .dataframe tbody tr th {\n",
       "        vertical-align: top;\n",
       "    }\n",
       "\n",
       "    .dataframe thead th {\n",
       "        text-align: right;\n",
       "    }\n",
       "</style>\n",
       "<table border=\"1\" class=\"dataframe\">\n",
       "  <thead>\n",
       "    <tr style=\"text-align: right;\">\n",
       "      <th></th>\n",
       "      <th>client_id</th>\n",
       "      <th>order_id</th>\n",
       "      <th>item_name</th>\n",
       "      <th>quantity</th>\n",
       "      <th>price</th>\n",
       "      <th>date</th>\n",
       "      <th>type</th>\n",
       "      <th>type2</th>\n",
       "    </tr>\n",
       "  </thead>\n",
       "  <tbody>\n",
       "    <tr>\n",
       "      <th>0</th>\n",
       "      <td>ahNzfnNldmVucm9vbXMtc2VjdXJlcicLEhpuaWdodGxvb3...</td>\n",
       "      <td>ahNzfnNldmVucm9vbXMtc2VjdXJlciULEhtuaWdodGxvb3...</td>\n",
       "      <td>Cosmonaut</td>\n",
       "      <td>1</td>\n",
       "      <td>16.0</td>\n",
       "      <td>2022-01-24</td>\n",
       "      <td>beverage</td>\n",
       "      <td>a</td>\n",
       "    </tr>\n",
       "    <tr>\n",
       "      <th>1</th>\n",
       "      <td>ahNzfnNldmVucm9vbXMtc2VjdXJlciQLEhpuaWdodGxvb3...</td>\n",
       "      <td>ahNzfnNldmVucm9vbXMtc2VjdXJlciULEhtuaWdodGxvb3...</td>\n",
       "      <td>Cosmonaut</td>\n",
       "      <td>1</td>\n",
       "      <td>16.0</td>\n",
       "      <td>2022-01-25</td>\n",
       "      <td>beverage</td>\n",
       "      <td>a</td>\n",
       "    </tr>\n",
       "    <tr>\n",
       "      <th>2</th>\n",
       "      <td>ahNzfnNldmVucm9vbXMtc2VjdXJlciQLEhpuaWdodGxvb3...</td>\n",
       "      <td>ahNzfnNldmVucm9vbXMtc2VjdXJlciULEhtuaWdodGxvb3...</td>\n",
       "      <td>Cosmonaut</td>\n",
       "      <td>1</td>\n",
       "      <td>16.0</td>\n",
       "      <td>2022-01-25</td>\n",
       "      <td>beverage</td>\n",
       "      <td>a</td>\n",
       "    </tr>\n",
       "    <tr>\n",
       "      <th>3</th>\n",
       "      <td>ahNzfnNldmVucm9vbXMtc2VjdXJlciQLEhpuaWdodGxvb3...</td>\n",
       "      <td>ahNzfnNldmVucm9vbXMtc2VjdXJlciULEhtuaWdodGxvb3...</td>\n",
       "      <td>Cosmonaut</td>\n",
       "      <td>1</td>\n",
       "      <td>16.0</td>\n",
       "      <td>2022-01-25</td>\n",
       "      <td>beverage</td>\n",
       "      <td>a</td>\n",
       "    </tr>\n",
       "    <tr>\n",
       "      <th>4</th>\n",
       "      <td>ahNzfnNldmVucm9vbXMtc2VjdXJlciQLEhpuaWdodGxvb3...</td>\n",
       "      <td>ahNzfnNldmVucm9vbXMtc2VjdXJlciULEhtuaWdodGxvb3...</td>\n",
       "      <td>Cosmonaut</td>\n",
       "      <td>1</td>\n",
       "      <td>16.0</td>\n",
       "      <td>2022-01-25</td>\n",
       "      <td>beverage</td>\n",
       "      <td>a</td>\n",
       "    </tr>\n",
       "  </tbody>\n",
       "</table>\n",
       "</div>"
      ],
      "text/plain": [
       "                                           client_id  \\\n",
       "0  ahNzfnNldmVucm9vbXMtc2VjdXJlcicLEhpuaWdodGxvb3...   \n",
       "1  ahNzfnNldmVucm9vbXMtc2VjdXJlciQLEhpuaWdodGxvb3...   \n",
       "2  ahNzfnNldmVucm9vbXMtc2VjdXJlciQLEhpuaWdodGxvb3...   \n",
       "3  ahNzfnNldmVucm9vbXMtc2VjdXJlciQLEhpuaWdodGxvb3...   \n",
       "4  ahNzfnNldmVucm9vbXMtc2VjdXJlciQLEhpuaWdodGxvb3...   \n",
       "\n",
       "                                            order_id  item_name  quantity  \\\n",
       "0  ahNzfnNldmVucm9vbXMtc2VjdXJlciULEhtuaWdodGxvb3...  Cosmonaut         1   \n",
       "1  ahNzfnNldmVucm9vbXMtc2VjdXJlciULEhtuaWdodGxvb3...  Cosmonaut         1   \n",
       "2  ahNzfnNldmVucm9vbXMtc2VjdXJlciULEhtuaWdodGxvb3...  Cosmonaut         1   \n",
       "3  ahNzfnNldmVucm9vbXMtc2VjdXJlciULEhtuaWdodGxvb3...  Cosmonaut         1   \n",
       "4  ahNzfnNldmVucm9vbXMtc2VjdXJlciULEhtuaWdodGxvb3...  Cosmonaut         1   \n",
       "\n",
       "   price        date      type type2  \n",
       "0   16.0  2022-01-24  beverage     a  \n",
       "1   16.0  2022-01-25  beverage     a  \n",
       "2   16.0  2022-01-25  beverage     a  \n",
       "3   16.0  2022-01-25  beverage     a  \n",
       "4   16.0  2022-01-25  beverage     a  "
      ]
     },
     "execution_count": 8,
     "metadata": {},
     "output_type": "execute_result"
    }
   ],
   "source": [
    "merged_df = pd.merge(new_df, labelled_mini[[\"item_name\", \"type\", \"type2\"]], on=\"item_name\", how=\"inner\")\n",
    "merged_df.head()"
   ]
  },
  {
   "cell_type": "code",
   "execution_count": 9,
   "metadata": {},
   "outputs": [
    {
     "data": {
      "text/plain": [
       "beverage      258726\n",
       "maincourse    201175\n",
       "starters      157217\n",
       "sidedish       50259\n",
       "starter        45271\n",
       "dessert        23101\n",
       "beverage        3402\n",
       "soup            1063\n",
       "Name: type, dtype: int64"
      ]
     },
     "execution_count": 9,
     "metadata": {},
     "output_type": "execute_result"
    }
   ],
   "source": [
    "merged_df.type.value_counts()"
   ]
  },
  {
   "cell_type": "code",
   "execution_count": 10,
   "metadata": {},
   "outputs": [
    {
     "name": "stdout",
     "output_type": "stream",
     "text": [
      "(740214, 8)\n"
     ]
    }
   ],
   "source": [
    "print(merged_df.shape)\n",
    "# merged_df.to_csv(\"merged.csv\")"
   ]
  },
  {
   "attachments": {},
   "cell_type": "markdown",
   "metadata": {},
   "source": [
    "#### Drop Duplicates"
   ]
  },
  {
   "cell_type": "code",
   "execution_count": 11,
   "metadata": {},
   "outputs": [
    {
     "name": "stdout",
     "output_type": "stream",
     "text": [
      "(634538, 8)\n"
     ]
    }
   ],
   "source": [
    "df = merged_df\n",
    "df.drop_duplicates(inplace=True)\n",
    "print(merged_df.shape)"
   ]
  },
  {
   "attachments": {},
   "cell_type": "markdown",
   "metadata": {},
   "source": [
    "#### Drop :)"
   ]
  },
  {
   "cell_type": "code",
   "execution_count": 12,
   "metadata": {},
   "outputs": [
    {
     "name": "stdout",
     "output_type": "stream",
     "text": [
      "(634538, 8)\n"
     ]
    }
   ],
   "source": [
    "smile_index = df[df['item_name'] == ':)'].index\n",
    "df.drop(smile_index , inplace=True)\n",
    "print(df.shape)"
   ]
  },
  {
   "attachments": {},
   "cell_type": "markdown",
   "metadata": {},
   "source": [
    "#### Drop starting with $"
   ]
  },
  {
   "cell_type": "code",
   "execution_count": 13,
   "metadata": {},
   "outputs": [
    {
     "name": "stdout",
     "output_type": "stream",
     "text": [
      "(634538, 8)\n"
     ]
    }
   ],
   "source": [
    "patternDel = \"^\\$\\d*$\"\n",
    "filter_ = df['item_name'].str.contains(patternDel)\n",
    "df = df[~filter_]\n",
    "print(df.shape)"
   ]
  },
  {
   "attachments": {},
   "cell_type": "markdown",
   "metadata": {},
   "source": [
    "#### Drop/Separate Add"
   ]
  },
  {
   "cell_type": "code",
   "execution_count": 14,
   "metadata": {},
   "outputs": [
    {
     "name": "stdout",
     "output_type": "stream",
     "text": [
      "(634500, 8)\n"
     ]
    }
   ],
   "source": [
    "patternDel = \"^Add\\s\"\n",
    "filter_ = df['item_name'].str.contains(patternDel)\n",
    "add_df = df[filter_]\n",
    "df = df[~filter_]\n",
    "print(df.shape)"
   ]
  },
  {
   "attachments": {},
   "cell_type": "markdown",
   "metadata": {},
   "source": [
    "#### Drop Strings having Fee"
   ]
  },
  {
   "cell_type": "code",
   "execution_count": 15,
   "metadata": {},
   "outputs": [
    {
     "name": "stdout",
     "output_type": "stream",
     "text": [
      "(634496, 8)\n"
     ]
    }
   ],
   "source": [
    "patternDel = \"Fee\"\n",
    "filter_ = df['item_name'].str.contains(patternDel)\n",
    "add_df = df[filter_]\n",
    "df = df[~filter_]\n",
    "print(df.shape)"
   ]
  },
  {
   "cell_type": "code",
   "execution_count": 16,
   "metadata": {},
   "outputs": [],
   "source": [
    "df.to_csv(\"merged.csv\")"
   ]
  }
 ],
 "metadata": {
  "kernelspec": {
   "display_name": "Python 3",
   "language": "python",
   "name": "python3"
  },
  "language_info": {
   "codemirror_mode": {
    "name": "ipython",
    "version": 3
   },
   "file_extension": ".py",
   "mimetype": "text/x-python",
   "name": "python",
   "nbconvert_exporter": "python",
   "pygments_lexer": "ipython3",
   "version": "3.11.1"
  },
  "orig_nbformat": 4
 },
 "nbformat": 4,
 "nbformat_minor": 2
}
